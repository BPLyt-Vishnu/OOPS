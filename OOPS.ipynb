{
  "nbformat": 4,
  "nbformat_minor": 0,
  "metadata": {
    "colab": {
      "provenance": []
    },
    "kernelspec": {
      "name": "python3",
      "display_name": "Python 3"
    },
    "language_info": {
      "name": "python"
    }
  },
  "cells": [
    {
      "cell_type": "code",
      "execution_count": null,
      "metadata": {
        "id": "VRwztDZlvCWc"
      },
      "outputs": [],
      "source": [
        "#THEORY ANSWERS"
      ]
    },
    {
      "cell_type": "markdown",
      "source": [
        "1. What is Object-Oriented Programming (OOP)?\n",
        "\n",
        "Answer: OOP is a programming paradigm that revolves around the concept of \"objects,\" which are instances of \"classes.\" OOP focuses on:\n",
        "\n",
        "Encapsulation: Bundling data (attributes) and methods (behavior) that operate on that data into a single unit (object).\n",
        "\n",
        "Abstraction: Hiding the complex implementation details and exposing only the necessary information.\n",
        "\n",
        "Inheritance: Allows a class to inherit properties and methods from another class, promoting code reusability.\n",
        "\n",
        "Polymorphism: Allows objects of different classes to be treated as objects of a common type.\n",
        "\n",
        "Core Idea: Organize code around data (objects) rather than actions (functions)\n",
        "\n"
      ],
      "metadata": {
        "id": "k31SceeXvK-C"
      }
    },
    {
      "cell_type": "markdown",
      "source": [
        "2. What is a class in OOP?\n",
        "\n",
        "\n",
        "\n",
        "Answer: A class is a blueprint or a template for creating objects. It defines:\n",
        "\n",
        "Attributes (data): The characteristics of the objects (variables).\n",
        "\n",
        "Methods (behavior): The actions that the objects can perform (functions associated with the object).\n",
        "\n",
        "Analogy: A class is like a cookie cutter (blueprint), and objects are the cookies (instances).\n",
        "\n"
      ],
      "metadata": {
        "id": "cKODXXnAvLDa"
      }
    },
    {
      "cell_type": "markdown",
      "source": [
        "3. What is an object in OOP?\n",
        "\n",
        "Answer: An object is an instance of a class. It is a concrete entity that has its own unique set of attribute values and can invoke methods defined in its class.\n",
        "\n",
        "Analogy: If a class is a car blueprint, an object is an actual car created based on that blueprint."
      ],
      "metadata": {
        "id": "Q9ZcDahTvLGU"
      }
    },
    {
      "cell_type": "markdown",
      "source": [
        "4. What is the difference between abstraction and encapsulation?\n",
        "\n",
        "*   **Answer:**\n",
        "    *   **Abstraction:** Hiding complex implementation details from the user and providing a simplified interface. Focuses on *what* an object does.\n",
        "        *   **Example:** In a car, you don't need to know the mechanics of the engine to drive, you only need to know how to use the steering wheel, the gas and brake pedals.\n",
        "    *   **Encapsulation:** Bundling data (attributes) and methods (behavior) that operate on that data within an object. Focuses on *how* an object handles its internal data and provides controlled access to it.\n",
        "       *   **Example:** A car object includes the wheels, and methods to move the wheels. User cannot change the way the wheels work directly.\n",
        "    *   **Key Difference:** Abstraction is about hiding complexity, while encapsulation is about bundling data and methods and protecting the internal state of an object. Abstraction hides how the components work internally, encapsulation ensures that the internal data are hidden and cannot be directly accessed by user."
      ],
      "metadata": {
        "id": "JL967WRhvLIc"
      }
    },
    {
      "cell_type": "markdown",
      "source": [
        "5. What are dunder methods in Python?\n",
        "\n",
        "Answer: Dunder methods (also called magic methods or special methods) are methods that have double underscores (dunder) at the beginning and end of their names. They define how objects behave in different situations, e.g. the way they should be initialized, printed, or compared.\n",
        "\n",
        "Example: __init__ (constructor), __str__ (string representation), __len__ (length), __add__ (addition), __getitem__ (indexing)."
      ],
      "metadata": {
        "id": "jt2eXFDUvLK4"
      }
    },
    {
      "cell_type": "markdown",
      "source": [
        "6. Explain the concept of inheritance in OOP.\n",
        "\n",
        "*   **Answer:** Inheritance is a mechanism where a class (child/derived class) can inherit attributes and methods from another class (parent/base class).\n",
        "    *   **Code Reuse:** Allows you to reuse existing code and avoid writing it from scratch.\n",
        "    *   **Hierarchical Relationships:** Establishes a hierarchical relationship between classes.\n",
        "    *   **Types:**\n",
        "         *   **Single:** One child class inherits from one parent class.\n",
        "         *   **Multiple:** A child class inherits from multiple parent classes.\n",
        "         *   **Multi-level:** A child class inherits from another child class, which inherits from another base class."
      ],
      "metadata": {
        "id": "9hue2L3VvLNQ"
      }
    },
    {
      "cell_type": "markdown",
      "source": [
        "7. What is polymorphism in OOP?\n",
        "\n",
        "Answer: Polymorphism means \"many forms.\" It is the ability of objects of different classes to respond to the same method call in their own way.\n",
        "\n",
        "Method Overriding: Subclasses can override methods of their parent classes to implement specific behavior.\n",
        "\n",
        "Interface: Objects that share a common interface can be used interchangeably.\n",
        "\n",
        "Example: A generic draw() method can be implemented differently in Circle and Rectangle classes."
      ],
      "metadata": {
        "id": "kc9D5_mTvLPw"
      }
    },
    {
      "cell_type": "markdown",
      "source": [
        "8. How is encapsulation achieved in Python?\n",
        "\n",
        "Answer: Encapsulation is achieved through:\n",
        "* Access Modifiers: Although Python doesn't have strict access modifiers like private, protected, public found in languages like Java, convention is used:\n",
        "\n",
        "Single Underscore (_variable): A convention that suggests that a variable or method is meant for internal use within the class but isn't private.\n",
        "\n",
        "Double Underscore (__variable): Name mangling. Makes the attribute harder to access, as a derived class cannot easily override such attributes.\n",
        "* Properties: Decorators like @property, @setter allow controlling attribute access, adding extra logic during access."
      ],
      "metadata": {
        "id": "WuUaXb03vLSQ"
      }
    },
    {
      "cell_type": "markdown",
      "source": [
        "9. What is a constructor in Python?\n",
        "\n",
        "Answer: A constructor (__init__) is a special method called automatically when an object is created from a class.\n",
        "\n",
        "Initialization: Used to initialize the object's attributes with initial values.\n",
        "\n",
        "Example:class Dog:\n",
        "  def __init__(self, name, breed):\n",
        "      self.name = name\n",
        "      self.breed = breed"
      ],
      "metadata": {
        "id": "YANird6UvLUu"
      }
    },
    {
      "cell_type": "markdown",
      "source": [
        "10. What are class and static methods in Python?\n",
        "\n",
        "\n",
        "\n",
        "Answer:\n",
        "\n",
        "Instance Methods: The regular methods you define in a class. Automatically get an instance of the object as first argument (self).\n",
        "\n",
        "Class Methods: Methods that are bound to the class, not to the object instance.\n",
        "* Decorator: Decorated with @classmethod.\n",
        "* First Argument: Receive the class as the first argument (cls).\n",
        "* Usage: Can modify class state or perform operations that are related to the class.\n",
        "\n",
        "Static Methods: Methods that are not bound to either the class or the instance of the object.\n",
        "* Decorator: Decorated with @staticmethod.\n",
        "* No Implicit Argument: Do not receive self or cls.\n",
        "* Usage: Useful for utility functions that are related to a class but don't operate on the object itself."
      ],
      "metadata": {
        "id": "f9ugaGwnvLXH"
      }
    },
    {
      "cell_type": "markdown",
      "source": [
        "11. What is method overloading in Python?\n",
        "\n",
        "*   **Answer:** Method overloading refers to the ability to define multiple methods with the same name in a class, but with different parameters. Python doesn't support method overloading in a traditional sense like in Java or C++.\n",
        "*   **Workaround:** You can achieve similar behavior using:\n",
        "    *   Default arguments.\n",
        "    *   `*args` and `**kwargs` to handle variable numbers of arguments.\n",
        "*   **Note:** When there are methods with the same name in a class in Python, the last one that is defined is kept."
      ],
      "metadata": {
        "id": "nIrsBTCovLZu"
      }
    },
    {
      "cell_type": "markdown",
      "source": [
        "12. What is method overriding in OOP?\n",
        "\n",
        "Answer: Method overriding is when a subclass provides a new implementation for a method inherited from its parent class.\n",
        "\n",
        "Polymorphism: Allows subclasses to customize the behavior of a method specific to their needs, while still being used in a polymorphic way.\n",
        "\n",
        "Same Signature: Typically, overridden methods have the same method signature (name, parameters)."
      ],
      "metadata": {
        "id": "NQV9a4JyvLcP"
      }
    },
    {
      "cell_type": "markdown",
      "source": [
        "13. What is a property decorator in Python?\n",
        "\n",
        "Answer: The @property decorator turns a method into an attribute (property).\n",
        "\n",
        "Getter: Access the data without having to call a method.\n",
        "\n",
        "Setter: Use @<property_name>.setter to define how the attribute is modified, with extra logic.\n",
        "\n",
        "Deleter: Use @<property_name>.deleter to specify actions when deleting the attribute.\n",
        "\n",
        "Controlled Access: Offers a way to control and validate attribute access and modifications."
      ],
      "metadata": {
        "id": "0XbE2h-NvLeu"
      }
    },
    {
      "cell_type": "markdown",
      "source": [
        "14. Why is polymorphism important in OOP?\n",
        "\n",
        "*   **Answer:** Polymorphism is important because:\n",
        "    *   **Flexibility:** Allows objects of different classes to be treated as objects of a common type.\n",
        "    *   **Extensibility:** Easy to extend or add new classes without having to modify existing code.\n",
        "    *   **Code Reusability:** Can write generic code that can work with different object types.\n",
        "    *   **Maintainability:** Code becomes more flexible and easier to maintain."
      ],
      "metadata": {
        "id": "28xNz4G1vLg-"
      }
    },
    {
      "cell_type": "markdown",
      "source": [
        "15. What is an abstract class in Python?\n",
        "\n",
        "*   **Answer:** An abstract class is a class that cannot be instantiated directly and can only be used as a base for other classes.\n",
        "    *   **Abstract Methods:** Abstract classes contain abstract methods that have no implementation (using `@abstractmethod` from the `abc` module). Subclasses must implement these methods.\n",
        "    *   **Interfaces:** It forces derived classes to have specific interfaces (set of methods).\n",
        "    *   **Blueprint:** It's like a blueprint for classes with specific methods to be implemented."
      ],
      "metadata": {
        "id": "332YkB-3vLjd"
      }
    },
    {
      "cell_type": "markdown",
      "source": [
        "16. What are the advantages of OOP?\n",
        "\n",
        "Answer:\n",
        "\n",
        "Modularity: Breaks the code into smaller, manageable modules (objects).\n",
        "\n",
        "Code Reusability: Through inheritance, you can reuse code.\n",
        "\n",
        "Maintainability: Easier to understand and modify OOP code due to its structured nature.\n",
        "\n",
        "Flexibility: OOP principles make it easier to adapt to new requirements.\n",
        "\n",
        "Real-world Modeling: Enables you to model real-world entities and interactions."
      ],
      "metadata": {
        "id": "43L3fqupvLl3"
      }
    },
    {
      "cell_type": "markdown",
      "source": [
        "17. What is the difference between a class variable and an instance variable?\n",
        "\n",
        "*   **Answer:**\n",
        "    *   **Class Variable:** A variable that is defined within a class but outside of any method.\n",
        "        *   **Shared:** Shared among all instances (objects) of the class.\n",
        "        *   **Class Level:** Accessed using the class name (`ClassName.variable`).\n",
        "        *   **Example:** The number of instances created of this class.\n",
        "    *   **Instance Variable:** A variable that is defined inside the `__init__` method of the class or any other method that is related to a specific object instance\n",
        "       *   **Unique:** Each instance of the class has its own copy of the variable.\n",
        "       *   **Instance Level:** Accessed using the instance (`object.variable`).\n",
        "       *   **Example:** Name or age of a particular person object."
      ],
      "metadata": {
        "id": "MvNAwCnlvLoS"
      }
    },
    {
      "cell_type": "markdown",
      "source": [
        "18. What is multiple inheritance in Python?\n",
        "\n",
        "Answer: Multiple inheritance is a feature in Python where a class can inherit from more than one parent class.\n",
        "\n",
        "Mixins: Can inherit features from several base classes.\n",
        "\n",
        "Complexity: Can lead to issues like the diamond problem (ambiguity when two parent classes have the same method), which Python has method resolution order (MRO) for to resolve, using C3 linearization.\n",
        "\n",
        "Careful Design: Requires careful design to avoid conflicts."
      ],
      "metadata": {
        "id": "puZ0WeLLvLqs"
      }
    },
    {
      "cell_type": "markdown",
      "source": [
        "19. Explain the purpose of __str__ and __repr__ methods in Python.\n",
        "\n",
        "Answer:\n",
        "\n",
        "__str__:\n",
        "\n",
        "String Representation: Provides a human-readable (informal) string representation of an object.\n",
        "\n",
        "Usage: Called by the str() function and when an object is printed using the print() function.\n",
        "\n",
        "__repr__:\n",
        "\n",
        "Unambiguous Representation: Provides a formal (unambiguous) string representation of an object.\n",
        "\n",
        "Usage: Should ideally create an expression to recreate the object. Called by the repr() function and when printing the object without using the print function in the interpreter."
      ],
      "metadata": {
        "id": "36q7zqV-vLtG"
      }
    },
    {
      "cell_type": "markdown",
      "source": [
        "20. What is the significance of the super() function in Python?\n",
        "\n",
        "Answer:\n",
        "\n",
        "Calling Parent Class Methods: The super() function allows a subclass to call methods (including the constructor __init__) of its parent class.\n",
        "\n",
        "MRO (Method Resolution Order): Helps in resolving method calls in multiple inheritance scenarios by respecting MRO order.\n",
        "\n",
        "Avoiding Redundancy: Promotes code reusability and avoids duplicate code."
      ],
      "metadata": {
        "id": "UV0hcxf3vLvn"
      }
    },
    {
      "cell_type": "markdown",
      "source": [
        "21. What is the significance of the __del__ method in Python?\n",
        "\n",
        "Answer:\n",
        "\n",
        "Destructor: The __del__ method is called when an object is about to be garbage collected.\n",
        "\n",
        "Cleanup: Used for resource cleanup (e.g. closing files, releasing network connections), although not recommended due to it being unreliable in some cases (garbage collection doesn't always run instantly).\n",
        "\n",
        "Note: Usually, Python automatically cleans up resources and using the __del__ is not recommended. Use context managers instead."
      ],
      "metadata": {
        "id": "vzmbK4__vLyQ"
      }
    },
    {
      "cell_type": "markdown",
      "source": [
        "22. What is the difference between @staticmethod and @classmethod in Python?\n",
        "\n",
        "* **Answer:**\n",
        "    * `@staticmethod`:\n",
        "       * Method is not related to a specific class or its instance\n",
        "       * It does not receive the class or instance as its argument\n",
        "    * `@classmethod`:\n",
        "       * Method is related to class itself rather than the instance of the class\n",
        "       * It automatically receives the class as an argument"
      ],
      "metadata": {
        "id": "Uih3YVnlvL0b"
      }
    },
    {
      "cell_type": "markdown",
      "source": [
        "23. How does polymorphism work in Python with inheritance?\n",
        "\n",
        "Answer:\n",
        "\n",
        "Method Overriding: Subclasses can override methods of their parent classes.\n",
        "\n",
        "Dynamic Dispatch: Python uses dynamic dispatch, so the correct method is called based on the object's type at runtime.\n",
        "\n",
        "Common Interface: Objects of different classes are used interchangeably (using the same interface) because the behavior is defined in each class separately."
      ],
      "metadata": {
        "id": "87UY5_L4vL27"
      }
    },
    {
      "cell_type": "markdown",
      "source": [
        "24. What is method chaining in Python OOP?\n",
        "\n",
        "Answer: Method chaining is a programming style where multiple method calls are chained together on the same object.\n",
        "\n",
        "Returning self: Achieved by having the method return the object itself (return self).\n",
        "\n",
        "Readability: Makes code more concise and readable when performing multiple operations on an object.\n",
        "\n",
        "Example: object.method1().method2().method3()"
      ],
      "metadata": {
        "id": "IxZH4MbwvL5P"
      }
    },
    {
      "cell_type": "markdown",
      "source": [
        "25. What is the purpose of the __call__ method in Python?\n",
        "\n",
        "*   **Answer:** The `__call__` method allows an object to be called as if it were a function.\n",
        "    *   **Callable Objects:** Makes instances of classes callable.\n",
        "    *   **Custom Behavior:** Provides a way to customize the behavior of an object when it is called.\n",
        "    *   **Example:**\n",
        "    ```python\n",
        "    class Adder:\n",
        "      def __init__(self, initial_value):\n",
        "        self.value = initial_value\n",
        "      def __call__(self, num):\n",
        "          self.value += num\n",
        "          return self.value\n",
        "\n",
        "    adder = Adder(5)\n",
        "    print(adder(3))  # Output: 8\n",
        "    print(adder(2))  # Output: 10\n",
        "    ```"
      ],
      "metadata": {
        "id": "Gb76x-7DxNQy"
      }
    },
    {
      "cell_type": "code",
      "source": [
        "#PRACTICAL ANSWER"
      ],
      "metadata": {
        "id": "mrwHB1u9xWAl"
      },
      "execution_count": null,
      "outputs": []
    },
    {
      "cell_type": "markdown",
      "source": [
        "# 1. Create a parent class Animal with a method speak() that prints a generic message. Create a child class Dog that overrides the speak() method to print \"Bark!\"."
      ],
      "metadata": {
        "id": "av2eOkZ0xY7Q"
      }
    },
    {
      "cell_type": "code",
      "source": [
        "class Animal:\n",
        "    def speak(self):\n",
        "        print(\"Generic animal sound\")\n",
        "\n",
        "class Dog(Animal):\n",
        "    def speak(self):\n",
        "        print(\"Bark!\")\n",
        "\n",
        "animal = Animal()\n",
        "animal.speak()\n",
        "dog = Dog()\n",
        "dog.speak()\n"
      ],
      "metadata": {
        "id": "btD9ZODbxZJC"
      },
      "execution_count": null,
      "outputs": []
    },
    {
      "cell_type": "markdown",
      "source": [
        "\n",
        "# 2. Write a program to create an abstract class Shape with a method area(). Derive classes Circle and Rectangle from it and implement the area() method in both."
      ],
      "metadata": {
        "id": "ikcXluS1xZfV"
      }
    },
    {
      "cell_type": "code",
      "source": [
        "class Shape(ABC):\n",
        "    @abstractmethod\n",
        "    def area(self):\n",
        "        pass\n",
        "\n",
        "class Circle(Shape):\n",
        "  def __init__(self, radius):\n",
        "    self.radius = radius\n",
        "  def area(self):\n",
        "      return 3.14159 * self.radius**2\n",
        "\n",
        "class Rectangle(Shape):\n",
        "  def __init__(self, length, width):\n",
        "    self.length = length\n",
        "    self.width = width\n",
        "  def area(self):\n",
        "    return self.length * self.width\n",
        "\n",
        "circle = Circle(5)\n",
        "print(f\"Circle area: {circle.area()}\")\n",
        "rectangle = Rectangle(4, 6)\n",
        "print(f\"Rectangle area: {rectangle.area()}\")"
      ],
      "metadata": {
        "id": "jvr_NtJExZq6"
      },
      "execution_count": null,
      "outputs": []
    },
    {
      "cell_type": "markdown",
      "source": [
        "# 3. Implement a multi-level inheritance scenario where a class Vehicle has an attribute type. Derive a class Car and further derive a class ElectricCar that adds a battery attribute."
      ],
      "metadata": {
        "id": "dd3pgjJrxZ8T"
      }
    },
    {
      "cell_type": "code",
      "source": [
        "class Vehicle:\n",
        "    def __init__(self, type):\n",
        "        self.type = type\n",
        "\n",
        "class Car(Vehicle):\n",
        "    def __init__(self, type):\n",
        "        super().__init__(type)\n",
        "\n",
        "class ElectricCar(Car):\n",
        "    def __init__(self, type, battery):\n",
        "        super().__init__(type)\n",
        "        self.battery = battery\n",
        "\n",
        "electric_car = ElectricCar(\"Electric\", \"100 kWh\")\n",
        "print(f\"Vehicle type: {electric_car.type}, battery: {electric_car.battery}\")"
      ],
      "metadata": {
        "id": "T1OYBaBQxaIL"
      },
      "execution_count": null,
      "outputs": []
    },
    {
      "cell_type": "markdown",
      "source": [
        "# 4. Implement a multi-level inheritance scenario where a class Vehicle has an attribute type. Derive a class Car and further derive a class ElectricCar that adds a battery attribute.\n",
        "# (Same implementation as above since the description was identical for this question.)\n"
      ],
      "metadata": {
        "id": "4Vlf5rQsxapp"
      }
    },
    {
      "cell_type": "markdown",
      "source": [
        "# 5. Write a program to demonstrate encapsulation by creating a class BankAccount with private attributes balance and methods to deposit, withdraw, and check balance."
      ],
      "metadata": {
        "id": "W3nr1i30xbLk"
      }
    },
    {
      "cell_type": "code",
      "source": [
        "class BankAccount:\n",
        "    def __init__(self, balance):\n",
        "        self.__balance = balance\n",
        "\n",
        "    def deposit(self, amount):\n",
        "        if amount > 0:\n",
        "            self.__balance += amount\n",
        "    def withdraw(self, amount):\n",
        "        if amount > 0 and amount <= self.__balance:\n",
        "            self.__balance -= amount\n",
        "    def check_balance(self):\n",
        "      return self.__balance\n",
        "\n",
        "account = BankAccount(1000)\n",
        "account.deposit(500)\n",
        "account.withdraw(200)\n",
        "print(f\"Balance: {account.check_balance()}\")\n"
      ],
      "metadata": {
        "id": "w85QiHpfxbYP"
      },
      "execution_count": null,
      "outputs": []
    },
    {
      "cell_type": "markdown",
      "source": [
        "# 6. Demonstrate runtime polymorphism using a method play() in a base class Instrument. Derive classes Guitar and Piano that implement their own version of play()."
      ],
      "metadata": {
        "id": "sE12mqrcxbkm"
      }
    },
    {
      "cell_type": "code",
      "source": [
        "class Instrument:\n",
        "  def play(self):\n",
        "    print(\"Generic instrument sound\")\n",
        "\n",
        "class Guitar(Instrument):\n",
        "  def play(self):\n",
        "      print(\"Guitar sound\")\n",
        "\n",
        "class Piano(Instrument):\n",
        "  def play(self):\n",
        "    print(\"Piano sound\")\n",
        "\n",
        "instruments = [Instrument(), Guitar(), Piano()]\n",
        "for instrument in instruments:\n",
        "  instrument.play()"
      ],
      "metadata": {
        "id": "6lLWdWRnxdHj"
      },
      "execution_count": null,
      "outputs": []
    },
    {
      "cell_type": "markdown",
      "source": [
        "\n",
        "# 7. Create a class MathOperations with a class method add_numbers() to add two numbers and a static method subtract_numbers() to subtract two numbers."
      ],
      "metadata": {
        "id": "-8wVyU32xdVU"
      }
    },
    {
      "cell_type": "code",
      "source": [
        "class MathOperations:\n",
        "    @classmethod\n",
        "    def add_numbers(cls, a, b):\n",
        "        return a + b\n",
        "\n",
        "    @staticmethod\n",
        "    def subtract_numbers(a, b):\n",
        "        return a - b\n",
        "\n",
        "print(f\"Addition: {MathOperations.add_numbers(5, 3)}\")\n",
        "print(f\"Subtraction: {MathOperations.subtract_numbers(5, 3)}\")\n"
      ],
      "metadata": {
        "id": "-4d8ITO5xdfn"
      },
      "execution_count": null,
      "outputs": []
    },
    {
      "cell_type": "markdown",
      "source": [
        "# 8. Implement a class Person with a class method to count the total number of persons created."
      ],
      "metadata": {
        "id": "xAX1pn9yxdqV"
      }
    },
    {
      "cell_type": "code",
      "source": [
        "class Person:\n",
        "  count = 0\n",
        "  def __init__(self):\n",
        "    Person.count += 1\n",
        "  @classmethod\n",
        "  def get_count(cls):\n",
        "    return cls.count\n",
        "\n",
        "person1 = Person()\n",
        "person2 = Person()\n",
        "person3 = Person()\n",
        "print(f\"Persons created: {Person.get_count()}\")"
      ],
      "metadata": {
        "id": "y92rlY8Sxd0u"
      },
      "execution_count": null,
      "outputs": []
    },
    {
      "cell_type": "markdown",
      "source": [
        "\n",
        "# 9. Write a class Fraction with attributes numerator and denominator. Override the __str__ method to display the fraction as \"numerator/denominator\"."
      ],
      "metadata": {
        "id": "AffohrpIxd-A"
      }
    },
    {
      "cell_type": "code",
      "source": [
        "class Fraction:\n",
        "  def __init__(self, numerator, denominator):\n",
        "    self.numerator = numerator\n",
        "    self.denominator = denominator\n",
        "  def __str__(self):\n",
        "    return f\"{self.numerator}/{self.denominator}\"\n",
        "fraction = Fraction(3, 4)\n",
        "print(fraction)"
      ],
      "metadata": {
        "id": "P7PILq2RxeHn"
      },
      "execution_count": null,
      "outputs": []
    },
    {
      "cell_type": "markdown",
      "source": [
        "\n",
        "# 10. Demonstrate operator overloading by creating a class Vector and overriding the add method to add two vectors."
      ],
      "metadata": {
        "id": "V_kIpVoJxeRM"
      }
    },
    {
      "cell_type": "code",
      "source": [
        "class Vector:\n",
        "    def __init__(self, x, y):\n",
        "        self.x = x\n",
        "        self.y = y\n",
        "\n",
        "    def __add__(self, other):\n",
        "        return Vector(self.x + other.x, self.y + other.y)\n",
        "    def __str__(self):\n",
        "        return f\"({self.x}, {self.y})\"\n",
        "\n",
        "v1 = Vector(2, 3)\n",
        "v2 = Vector(4, 5)\n",
        "v3 = v1 + v2\n",
        "print(v3"
      ],
      "metadata": {
        "id": "wv4tLp1fxeao"
      },
      "execution_count": null,
      "outputs": []
    },
    {
      "cell_type": "markdown",
      "source": [
        "\n",
        "# 11. Create a class Person with attributes name and age. Add a method greet() that prints \"Hello, my name is {name} and I am {age} years old.\""
      ],
      "metadata": {
        "id": "55e0VJKMxej1"
      }
    },
    {
      "cell_type": "code",
      "source": [
        "class Person:\n",
        "  def __init__(self, name, age):\n",
        "      self.name = name\n",
        "      self.age = age\n",
        "  def greet(self):\n",
        "    print(f\"Hello, my name is {self.name} and I am {self.age} years old.\")\n",
        "person = Person(\"Alice\", 30)\n",
        "person.greet()"
      ],
      "metadata": {
        "id": "iUJCSY6-xesi"
      },
      "execution_count": null,
      "outputs": []
    },
    {
      "cell_type": "markdown",
      "source": [
        "\n",
        "# 12. Implement a class Student with attributes name and grades. Create a method average_grade() to compute the average of the grades."
      ],
      "metadata": {
        "id": "mLviUOyHxfAa"
      }
    },
    {
      "cell_type": "code",
      "source": [
        "class Student:\n",
        "    def __init__(self, name, grades):\n",
        "        self.name = name\n",
        "        self.grades = grades\n",
        "    def average_grade(self):\n",
        "        if self.grades:\n",
        "          return sum(self.grades) / len(self.grades)\n",
        "        else:\n",
        "          return 0\n",
        "\n",
        "student = Student(\"Bob\", [85, 90, 78, 92])\n",
        "print(f\"Average grade: {student.average_grade()}\")"
      ],
      "metadata": {
        "id": "YMSAIUonxfKI"
      },
      "execution_count": null,
      "outputs": []
    },
    {
      "cell_type": "markdown",
      "source": [
        "\n",
        "# 13. Create a class Rectangle with methods set_dimensions() to set the dimensions and area() to calculate the area."
      ],
      "metadata": {
        "id": "6bpzcvtCxfSj"
      }
    },
    {
      "cell_type": "code",
      "source": [
        "class Rectangle:\n",
        "  def __init__(self):\n",
        "      self.length = 0\n",
        "      self.width = 0\n",
        "  def set_dimensions(self, length, width):\n",
        "    self.length = length\n",
        "    self.width = width\n",
        "  def area(self):\n",
        "    return self.length * self.width\n",
        "rectangle = Rectangle()\n",
        "rectangle.set_dimensions(5, 10)\n",
        "print(f\"Area: {rectangle.area()}\")"
      ],
      "metadata": {
        "id": "f0Ad691FxfcF"
      },
      "execution_count": null,
      "outputs": []
    },
    {
      "cell_type": "markdown",
      "source": [
        "# 14. Create a class Employee with a method calculate_salary() that computes the salary based on hours worked and hourly rate. Create a derived class Manager that adds a bonus to the salary."
      ],
      "metadata": {
        "id": "O_hVNHkIxflQ"
      }
    },
    {
      "cell_type": "code",
      "source": [
        "class Employee:\n",
        "    def __init__(self, hourly_rate):\n",
        "      self.hourly_rate = hourly_rate\n",
        "    def calculate_salary(self, hours_worked):\n",
        "      return hours_worked * self.hourly_rate\n",
        "\n",
        "class Manager(Employee):\n",
        "  def __init__(self, hourly_rate, bonus):\n",
        "    super().__init__(hourly_rate)\n",
        "    self.bonus = bonus\n",
        "  def calculate_salary(self, hours_worked):\n",
        "     return super().calculate_salary(hours_worked) + self.bonus\n",
        "employee = Employee(20)\n",
        "print(f\"Employee salary: {employee.calculate_salary(40)}\")\n",
        "manager = Manager(30, 500)\n",
        "print(f\"Manager salary: {manager.calculate_salary(40)}\")\n"
      ],
      "metadata": {
        "id": "B4sq9nokxfvj"
      },
      "execution_count": null,
      "outputs": []
    },
    {
      "cell_type": "markdown",
      "source": [
        "\n",
        "# 15. Create a class Product with attributes name, price, and quantity. Implement a method total_price() that calculates the total price of the product."
      ],
      "metadata": {
        "id": "CbMpJZgQxf-r"
      }
    },
    {
      "cell_type": "code",
      "source": [
        "class Product:\n",
        "  def __init__(self, name, price, quantity):\n",
        "    self.name = name\n",
        "    self.price = price\n",
        "    self.quantity = quantity\n",
        "  def total_price(self):\n",
        "    return self.price * self.quantity\n",
        "\n",
        "product = Product(\"Laptop\", 1200, 2)\n",
        "print(f\"Total price: {product.total_price()}\")"
      ],
      "metadata": {
        "id": "0BnaLz-2xgJD"
      },
      "execution_count": null,
      "outputs": []
    },
    {
      "cell_type": "markdown",
      "source": [
        "# 16. Create a class Animal with an abstract method sound(). Create two derived classes Cow and Sheep that implement the sound() method."
      ],
      "metadata": {
        "id": "jreymn7QxgSq"
      }
    },
    {
      "cell_type": "code",
      "source": [
        "class Animal(ABC):\n",
        "  @abstractmethod\n",
        "  def sound(self):\n",
        "      pass\n",
        "\n",
        "class Cow(Animal):\n",
        "  def sound(self):\n",
        "    print(\"Moo!\")\n",
        "\n",
        "class Sheep(Animal):\n",
        "  def sound(self):\n",
        "     print(\"Baa!\")\n",
        "cow = Cow()\n",
        "cow.sound()\n",
        "sheep = Sheep()\n",
        "sheep.sound()\n"
      ],
      "metadata": {
        "id": "-PDK_RTdxgar"
      },
      "execution_count": null,
      "outputs": []
    },
    {
      "cell_type": "markdown",
      "source": [
        "\n",
        "# 17. Create a class Book with attributes title, author, and year_published. Add a method get_book_info() that returns a formatted string with the book's details."
      ],
      "metadata": {
        "id": "fqrf916ZxgvV"
      }
    },
    {
      "cell_type": "code",
      "source": [
        "class Book:\n",
        "  def __init__(self, title, author, year_published):\n",
        "    self.title = title\n",
        "    self.author = author\n",
        "    self.year_published = year_published\n",
        "  def get_book_info(self):\n",
        "      return f\"Title: {self.title}, Author: {self.author}, Year: {self.year_published}\"\n",
        "book = Book(\"The Hitchhiker's Guide to the Galaxy\", \"Douglas Adams\", 1979)\n",
        "print(book.get_book_info())"
      ],
      "metadata": {
        "id": "CzeGylqixg-u"
      },
      "execution_count": null,
      "outputs": []
    },
    {
      "cell_type": "markdown",
      "source": [
        "\n",
        "# 18. Create a class House with attributes address and price. Create a derived class Mansion that adds an attribute number_of_rooms."
      ],
      "metadata": {
        "id": "jnxuBTO9xhJe"
      }
    },
    {
      "cell_type": "code",
      "source": [
        "class House:\n",
        "  def __init__(self, address, price):\n",
        "    self.address = address\n",
        "    self.price = price\n",
        "\n",
        "class Mansion(House):\n",
        "  def __init__(self, address, price, number_of_rooms):\n",
        "      super().__init__(address, price)\n",
        "      self.number_of_rooms = number_of_rooms\n",
        "mansion = Mansion(\"123 Main St\", 500000, 20)\n",
        "print(f\"Address: {mansion.address}, Price: {mansion.price}, Rooms: {mansion.number_of_rooms}\")"
      ],
      "metadata": {
        "id": "N7jVD0MpxhTi"
      },
      "execution_count": null,
      "outputs": []
    }
  ]
}